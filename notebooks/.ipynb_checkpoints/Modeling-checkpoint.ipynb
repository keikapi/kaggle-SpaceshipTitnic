{
 "cells": [
  {
   "cell_type": "code",
   "execution_count": 1,
   "id": "d0903cb8-4e66-4d32-97a9-9a699868ffa8",
   "metadata": {},
   "outputs": [],
   "source": [
    "import pandas as pd\n",
    "import random\n",
    "import numpy as np"
   ]
  },
  {
   "cell_type": "code",
   "execution_count": 7,
   "id": "fcb7b096-7a32-47ee-96e3-d428728257a1",
   "metadata": {},
   "outputs": [
    {
     "name": "stdout",
     "output_type": "stream",
     "text": [
      "✅ 読み込み完了: <class 'list'>\n"
     ]
    }
   ],
   "source": [
    "import boto3\n",
    "import pickle\n",
    "import io\n",
    "from urllib.parse import urlparse\n",
    "\n",
    "def load_pickle_from_s3(s3_uri):\n",
    "    # S3 URIを分解\n",
    "    parsed = urlparse(s3_uri)\n",
    "    bucket = parsed.netloc\n",
    "    key = parsed.path.lstrip(\"/\")\n",
    "\n",
    "    # S3からバイナリデータを取得\n",
    "    s3 = boto3.client(\"s3\")\n",
    "    response = s3.get_object(Bucket=bucket, Key=key)\n",
    "    binary_data = response['Body'].read()\n",
    "\n",
    "    # pickleとして読み込む\n",
    "    return pickle.load(io.BytesIO(binary_data))\n",
    "\n",
    "# 使用例\n",
    "X_train_pkl = \"s3://datascience-keigo/kaggle-SpaceshipTitanic/processed/CV_1/X_train.pkl\"\n",
    "Y_train_pkl = \"s3://datascience-keigo/kaggle-SpaceshipTitanic/processed/CV_1/Y_train.pkl\"\n",
    "X_valid_pkl = \"s3://datascience-keigo/kaggle-SpaceshipTitanic/processed/CV_1/X_valid.pkl\"\n",
    "Y_valid_pkl = \"s3://datascience-keigo/kaggle-SpaceshipTitanic/processed/CV_1/Y_valid.pkl\"\n",
    "train_X = load_pickle_from_s3(X_train_pkl)\n",
    "train_Y = load_pickle_from_s3(Y_train_pkl)\n",
    "valid_X = load_pickle_from_s3(X_valid_pkl)\n",
    "valid_Y = load_pickle_from_s3(Y_valid_pkl)\n",
    "print(\"✅ 読み込み完了:\", type(X_train))"
   ]
  },
  {
   "cell_type": "code",
   "execution_count": 8,
   "id": "1c3ea1c4-86bb-42c6-9ffe-e1c1be67e0c8",
   "metadata": {},
   "outputs": [],
   "source": [
    "import lightgbm as lgb\n",
    "import sklearn.metrics import accuracy_scoree\n",
    "\n",
    "# prameta settings\n",
    "lgbm = {\n",
    "    \"Objective\": \"binary\",\n",
    "    \"random_seed\": 1234\n",
    "}\n",
    "# model格納用リスト\n",
    "models\n",
    "\n",
    "for i in range(3):\n",
    "    X_train = train_X[i]\n",
    "    X_valid = valid_X[i]\n",
    "    Y_train = train_Y[i]\n",
    "    Y_valid = valid_Y[i]\n",
    "\n",
    "    lgb_train = lgb.Dataset(X_train, Y_train)\n",
    "    lgb_eval = lgb.Dataset(X_valid, Y_valid, reference=lgb_train)\n",
    "\n",
    "    model_lgb = lgb.train(lgbm_params,\n",
    "                          lgb_train,\n",
    "                          valid_sets=lgb_eval,\n",
    "                          num_boost_round=100,\n",
    "                          early_stopping_round=20,\n",
    "                          verbose_eval=10\n",
    "                         )\n",
    "    y_pred = model_lgb.predict(X_valid, num_iteration=model_lgb.best_iteration)\n",
    "    print(accuracy_score(y_valid, np.round(y_pred)))\n",
    "    models.append(model_lgb)"
   ]
  },
  {
   "cell_type": "code",
   "execution_count": null,
   "id": "0fc6c744-8f2b-411e-b627-dc49820ab334",
   "metadata": {},
   "outputs": [],
   "source": [
    "preds = []\n",
    "for model in models:\n",
    "    pred = model.predict(test_X)\n",
    "    preds.append(pred)"
   ]
  },
  {
   "cell_type": "code",
   "execution_count": null,
   "id": "ddb145b8-5d5f-4a77-b4fa-90a52e05e1ba",
   "metadata": {},
   "outputs": [],
   "source": [
    "preds_array = np.array(preds)\n",
    "preds_mean = np.mean(preds_array, axis=0)"
   ]
  },
  {
   "cell_type": "code",
   "execution_count": null,
   "id": "6f0b78b9-9da4-43c4-8ca6-516f1f190a8d",
   "metadata": {},
   "outputs": [],
   "source": [
    "preds_int = (preds_mean > 0.5).astype(int)"
   ]
  }
 ],
 "metadata": {
  "kernelspec": {
   "display_name": "Python 3 (ipykernel)",
   "language": "python",
   "name": "python3"
  },
  "language_info": {
   "codemirror_mode": {
    "name": "ipython",
    "version": 3
   },
   "file_extension": ".py",
   "mimetype": "text/x-python",
   "name": "python",
   "nbconvert_exporter": "python",
   "pygments_lexer": "ipython3",
   "version": "3.12.9"
  }
 },
 "nbformat": 4,
 "nbformat_minor": 5
}
